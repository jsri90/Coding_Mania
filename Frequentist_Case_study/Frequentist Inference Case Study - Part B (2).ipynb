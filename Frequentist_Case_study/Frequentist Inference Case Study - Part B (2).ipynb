{
 "cells": [
  {
   "cell_type": "markdown",
   "metadata": {},
   "source": [
    "# Frequentist Inference Case Study - Part B"
   ]
  },
  {
   "cell_type": "markdown",
   "metadata": {},
   "source": [
    "## Learning objectives"
   ]
  },
  {
   "cell_type": "markdown",
   "metadata": {},
   "source": [
    "Welcome to Part B of the Frequentist inference case study! The purpose of this case study is to help you apply the concepts associated with Frequentist inference in Python. In particular, you'll practice writing Python code to apply the following statistical concepts: \n",
    "* the _z_-statistic\n",
    "* the _t_-statistic\n",
    "* the difference and relationship between the two\n",
    "* the Central Limit Theorem, including its assumptions and consequences\n",
    "* how to estimate the population mean and standard deviation from a sample\n",
    "* the concept of a sampling distribution of a test statistic, particularly for the mean\n",
    "* how to combine these concepts to calculate a confidence interval"
   ]
  },
  {
   "cell_type": "markdown",
   "metadata": {},
   "source": [
    "In the previous notebook, we used only data from a known normal distribution. **You'll now tackle real data, rather than simulated data, and answer some relevant real-world business problems using the data.**"
   ]
  },
  {
   "cell_type": "markdown",
   "metadata": {},
   "source": [
    "## Hospital medical charges"
   ]
  },
  {
   "cell_type": "markdown",
   "metadata": {},
   "source": [
    "Imagine that a hospital has hired you as their data scientist. An administrator is working on the hospital's business operations plan and needs you to help them answer some business questions. \n",
    "\n",
    "In this assignment notebook, you're going to use frequentist statistical inference on a data sample to answer the questions:\n",
    "* has the hospital's revenue stream fallen below a key threshold?\n",
    "* are patients with insurance really charged different amounts than those without?\n",
    "\n",
    "Answering that last question with a frequentist approach makes some assumptions, and requires some knowledge, about the two groups."
   ]
  },
  {
   "cell_type": "markdown",
   "metadata": {},
   "source": [
    "We are going to use some data on medical charges obtained from [Kaggle](https://www.kaggle.com/easonlai/sample-insurance-claim-prediction-dataset). \n",
    "\n",
    "For the purposes of this exercise, assume the observations are the result of random sampling from our single hospital. Recall that in the previous assignment, we introduced the Central Limit Theorem (CLT), and its consequence that the distributions of sample statistics approach a normal distribution as $n$ increases. The amazing thing about this is that it applies to the sampling distributions of statistics that have been calculated from even highly non-normal distributions of data! Recall, also, that hypothesis testing is very much based on making inferences about such sample statistics. You're going to rely heavily on the CLT to apply frequentist (parametric) tests to answer the questions in this notebook."
   ]
  },
  {
   "cell_type": "code",
   "execution_count": 57,
   "metadata": {},
   "outputs": [],
   "source": [
    "import pandas as pd\n",
    "import numpy as np\n",
    "import matplotlib.pyplot as plt\n",
    "from scipy.stats import t\n",
    "from numpy.random import seed\n",
    "from scipy.stats import ttest_ind_from_stats # importing the t-test function for independent samples\n",
    "medical = pd.read_csv('insurance2.csv')"
   ]
  },
  {
   "cell_type": "code",
   "execution_count": 2,
   "metadata": {},
   "outputs": [
    {
     "data": {
      "text/plain": [
       "(1338, 8)"
      ]
     },
     "execution_count": 2,
     "metadata": {},
     "output_type": "execute_result"
    }
   ],
   "source": [
    "medical.shape"
   ]
  },
  {
   "cell_type": "code",
   "execution_count": 3,
   "metadata": {},
   "outputs": [
    {
     "data": {
      "text/html": [
       "<div>\n",
       "<style scoped>\n",
       "    .dataframe tbody tr th:only-of-type {\n",
       "        vertical-align: middle;\n",
       "    }\n",
       "\n",
       "    .dataframe tbody tr th {\n",
       "        vertical-align: top;\n",
       "    }\n",
       "\n",
       "    .dataframe thead th {\n",
       "        text-align: right;\n",
       "    }\n",
       "</style>\n",
       "<table border=\"1\" class=\"dataframe\">\n",
       "  <thead>\n",
       "    <tr style=\"text-align: right;\">\n",
       "      <th></th>\n",
       "      <th>age</th>\n",
       "      <th>sex</th>\n",
       "      <th>bmi</th>\n",
       "      <th>children</th>\n",
       "      <th>smoker</th>\n",
       "      <th>region</th>\n",
       "      <th>charges</th>\n",
       "      <th>insuranceclaim</th>\n",
       "    </tr>\n",
       "  </thead>\n",
       "  <tbody>\n",
       "    <tr>\n",
       "      <th>0</th>\n",
       "      <td>19</td>\n",
       "      <td>0</td>\n",
       "      <td>27.900</td>\n",
       "      <td>0</td>\n",
       "      <td>1</td>\n",
       "      <td>3</td>\n",
       "      <td>16884.92400</td>\n",
       "      <td>1</td>\n",
       "    </tr>\n",
       "    <tr>\n",
       "      <th>1</th>\n",
       "      <td>18</td>\n",
       "      <td>1</td>\n",
       "      <td>33.770</td>\n",
       "      <td>1</td>\n",
       "      <td>0</td>\n",
       "      <td>2</td>\n",
       "      <td>1725.55230</td>\n",
       "      <td>1</td>\n",
       "    </tr>\n",
       "    <tr>\n",
       "      <th>2</th>\n",
       "      <td>28</td>\n",
       "      <td>1</td>\n",
       "      <td>33.000</td>\n",
       "      <td>3</td>\n",
       "      <td>0</td>\n",
       "      <td>2</td>\n",
       "      <td>4449.46200</td>\n",
       "      <td>0</td>\n",
       "    </tr>\n",
       "    <tr>\n",
       "      <th>3</th>\n",
       "      <td>33</td>\n",
       "      <td>1</td>\n",
       "      <td>22.705</td>\n",
       "      <td>0</td>\n",
       "      <td>0</td>\n",
       "      <td>1</td>\n",
       "      <td>21984.47061</td>\n",
       "      <td>0</td>\n",
       "    </tr>\n",
       "    <tr>\n",
       "      <th>4</th>\n",
       "      <td>32</td>\n",
       "      <td>1</td>\n",
       "      <td>28.880</td>\n",
       "      <td>0</td>\n",
       "      <td>0</td>\n",
       "      <td>1</td>\n",
       "      <td>3866.85520</td>\n",
       "      <td>1</td>\n",
       "    </tr>\n",
       "    <tr>\n",
       "      <th>5</th>\n",
       "      <td>31</td>\n",
       "      <td>0</td>\n",
       "      <td>25.740</td>\n",
       "      <td>0</td>\n",
       "      <td>0</td>\n",
       "      <td>2</td>\n",
       "      <td>3756.62160</td>\n",
       "      <td>0</td>\n",
       "    </tr>\n",
       "    <tr>\n",
       "      <th>6</th>\n",
       "      <td>46</td>\n",
       "      <td>0</td>\n",
       "      <td>33.440</td>\n",
       "      <td>1</td>\n",
       "      <td>0</td>\n",
       "      <td>2</td>\n",
       "      <td>8240.58960</td>\n",
       "      <td>1</td>\n",
       "    </tr>\n",
       "    <tr>\n",
       "      <th>7</th>\n",
       "      <td>37</td>\n",
       "      <td>0</td>\n",
       "      <td>27.740</td>\n",
       "      <td>3</td>\n",
       "      <td>0</td>\n",
       "      <td>1</td>\n",
       "      <td>7281.50560</td>\n",
       "      <td>0</td>\n",
       "    </tr>\n",
       "    <tr>\n",
       "      <th>8</th>\n",
       "      <td>37</td>\n",
       "      <td>1</td>\n",
       "      <td>29.830</td>\n",
       "      <td>2</td>\n",
       "      <td>0</td>\n",
       "      <td>0</td>\n",
       "      <td>6406.41070</td>\n",
       "      <td>0</td>\n",
       "    </tr>\n",
       "    <tr>\n",
       "      <th>9</th>\n",
       "      <td>60</td>\n",
       "      <td>0</td>\n",
       "      <td>25.840</td>\n",
       "      <td>0</td>\n",
       "      <td>0</td>\n",
       "      <td>1</td>\n",
       "      <td>28923.13692</td>\n",
       "      <td>0</td>\n",
       "    </tr>\n",
       "    <tr>\n",
       "      <th>10</th>\n",
       "      <td>25</td>\n",
       "      <td>1</td>\n",
       "      <td>26.220</td>\n",
       "      <td>0</td>\n",
       "      <td>0</td>\n",
       "      <td>0</td>\n",
       "      <td>2721.32080</td>\n",
       "      <td>1</td>\n",
       "    </tr>\n",
       "    <tr>\n",
       "      <th>11</th>\n",
       "      <td>62</td>\n",
       "      <td>0</td>\n",
       "      <td>26.290</td>\n",
       "      <td>0</td>\n",
       "      <td>1</td>\n",
       "      <td>2</td>\n",
       "      <td>27808.72510</td>\n",
       "      <td>1</td>\n",
       "    </tr>\n",
       "    <tr>\n",
       "      <th>12</th>\n",
       "      <td>23</td>\n",
       "      <td>1</td>\n",
       "      <td>34.400</td>\n",
       "      <td>0</td>\n",
       "      <td>0</td>\n",
       "      <td>3</td>\n",
       "      <td>1826.84300</td>\n",
       "      <td>1</td>\n",
       "    </tr>\n",
       "    <tr>\n",
       "      <th>13</th>\n",
       "      <td>56</td>\n",
       "      <td>0</td>\n",
       "      <td>39.820</td>\n",
       "      <td>0</td>\n",
       "      <td>0</td>\n",
       "      <td>2</td>\n",
       "      <td>11090.71780</td>\n",
       "      <td>1</td>\n",
       "    </tr>\n",
       "    <tr>\n",
       "      <th>14</th>\n",
       "      <td>27</td>\n",
       "      <td>1</td>\n",
       "      <td>42.130</td>\n",
       "      <td>0</td>\n",
       "      <td>1</td>\n",
       "      <td>2</td>\n",
       "      <td>39611.75770</td>\n",
       "      <td>1</td>\n",
       "    </tr>\n",
       "    <tr>\n",
       "      <th>15</th>\n",
       "      <td>19</td>\n",
       "      <td>1</td>\n",
       "      <td>24.600</td>\n",
       "      <td>1</td>\n",
       "      <td>0</td>\n",
       "      <td>3</td>\n",
       "      <td>1837.23700</td>\n",
       "      <td>0</td>\n",
       "    </tr>\n",
       "    <tr>\n",
       "      <th>16</th>\n",
       "      <td>52</td>\n",
       "      <td>0</td>\n",
       "      <td>30.780</td>\n",
       "      <td>1</td>\n",
       "      <td>0</td>\n",
       "      <td>0</td>\n",
       "      <td>10797.33620</td>\n",
       "      <td>1</td>\n",
       "    </tr>\n",
       "    <tr>\n",
       "      <th>17</th>\n",
       "      <td>23</td>\n",
       "      <td>1</td>\n",
       "      <td>23.845</td>\n",
       "      <td>0</td>\n",
       "      <td>0</td>\n",
       "      <td>0</td>\n",
       "      <td>2395.17155</td>\n",
       "      <td>0</td>\n",
       "    </tr>\n",
       "    <tr>\n",
       "      <th>18</th>\n",
       "      <td>56</td>\n",
       "      <td>1</td>\n",
       "      <td>40.300</td>\n",
       "      <td>0</td>\n",
       "      <td>0</td>\n",
       "      <td>3</td>\n",
       "      <td>10602.38500</td>\n",
       "      <td>1</td>\n",
       "    </tr>\n",
       "    <tr>\n",
       "      <th>19</th>\n",
       "      <td>30</td>\n",
       "      <td>1</td>\n",
       "      <td>35.300</td>\n",
       "      <td>0</td>\n",
       "      <td>1</td>\n",
       "      <td>3</td>\n",
       "      <td>36837.46700</td>\n",
       "      <td>1</td>\n",
       "    </tr>\n",
       "  </tbody>\n",
       "</table>\n",
       "</div>"
      ],
      "text/plain": [
       "    age  sex     bmi  children  smoker  region      charges  insuranceclaim\n",
       "0    19    0  27.900         0       1       3  16884.92400               1\n",
       "1    18    1  33.770         1       0       2   1725.55230               1\n",
       "2    28    1  33.000         3       0       2   4449.46200               0\n",
       "3    33    1  22.705         0       0       1  21984.47061               0\n",
       "4    32    1  28.880         0       0       1   3866.85520               1\n",
       "5    31    0  25.740         0       0       2   3756.62160               0\n",
       "6    46    0  33.440         1       0       2   8240.58960               1\n",
       "7    37    0  27.740         3       0       1   7281.50560               0\n",
       "8    37    1  29.830         2       0       0   6406.41070               0\n",
       "9    60    0  25.840         0       0       1  28923.13692               0\n",
       "10   25    1  26.220         0       0       0   2721.32080               1\n",
       "11   62    0  26.290         0       1       2  27808.72510               1\n",
       "12   23    1  34.400         0       0       3   1826.84300               1\n",
       "13   56    0  39.820         0       0       2  11090.71780               1\n",
       "14   27    1  42.130         0       1       2  39611.75770               1\n",
       "15   19    1  24.600         1       0       3   1837.23700               0\n",
       "16   52    0  30.780         1       0       0  10797.33620               1\n",
       "17   23    1  23.845         0       0       0   2395.17155               0\n",
       "18   56    1  40.300         0       0       3  10602.38500               1\n",
       "19   30    1  35.300         0       1       3  36837.46700               1"
      ]
     },
     "execution_count": 3,
     "metadata": {},
     "output_type": "execute_result"
    }
   ],
   "source": [
    "medical.head(20)"
   ]
  },
  {
   "cell_type": "markdown",
   "metadata": {},
   "source": [
    "__Q1:__ Plot the histogram of charges and calculate the mean and standard deviation. Comment on the appropriateness of these statistics for the data."
   ]
  },
  {
   "cell_type": "markdown",
   "metadata": {},
   "source": [
    "__A:__"
   ]
  },
  {
   "cell_type": "code",
   "execution_count": 4,
   "metadata": {},
   "outputs": [
    {
     "data": {
      "image/png": "[encoded data removed]",
      "text/plain": [
       "<Figure size 432x288 with 1 Axes>"
      ]
     },
     "metadata": {
      "needs_background": "light"
     },
     "output_type": "display_data"
    }
   ],
   "source": [
    "# Plotting Histogram\n",
    "_ = plt.hist(medical['charges'], bins = 50)\n",
    "_ = plt.xlabel('Charged Amount')\n",
    "_ = plt.ylabel('Distribution of charged amount')\n",
    "_ = plt.title('Histogram of Charges')"
   ]
  },
  {
   "cell_type": "code",
   "execution_count": 5,
   "metadata": {},
   "outputs": [
    {
     "name": "stdout",
     "output_type": "stream",
     "text": [
      "Average charged amount =  13270.422265141257\n",
      "Standard deviation of charged amount =  12110.011236693994\n"
     ]
    }
   ],
   "source": [
    "# Calculating mean and standard deviation\n",
    "Charges_mean = medical['charges'].mean()\n",
    "print('Average charged amount = ', Charges_mean)\n",
    "Charges_std = medical['charges'].std()\n",
    "print('Standard deviation of charged amount = ', Charges_std)"
   ]
  },
  {
   "cell_type": "code",
   "execution_count": 6,
   "metadata": {},
   "outputs": [
    {
     "name": "stdout",
     "output_type": "stream",
     "text": [
      " Number of cases with medical expenses less than 28000 =  1164\n",
      "Percentage of cases with medical expenses less than 28000 =  86.99551569506725\n"
     ]
    }
   ],
   "source": [
    "distribution_28000 = medical[medical['charges'] <28000].shape\n",
    "print(' Number of cases with medical expenses less than 28000 = ', distribution_28000[0])\n",
    "print('Percentage of cases with medical expenses less than 28000 = ', distribution_28000[0] / medical.shape[0] * 100)"
   ]
  },
  {
   "cell_type": "markdown",
   "metadata": {},
   "source": [
    "Based on the histogram above - bulk of the data is concentrated between the low hundreds and about \\\\$15000, with few values as extreme as \\\\$60000 and more. The extreme values could be outliers or possibly treatment expenses for severe illnesses. Since more than 86% of the cases have medical expenses less than \\\\$28000, the mean and standard deviation are fair estimates of the data. "
   ]
  },
  {
   "cell_type": "markdown",
   "metadata": {},
   "source": [
    "__Q2:__ The administrator is concerned that the actual average charge has fallen below 12,000, threatening the hospital's operational model. On the assumption that these data represent a random sample of charges, how would you justify that these data allow you to answer that question? And what would be the most appropriate frequentist test, of the ones discussed so far, to apply?"
   ]
  },
  {
   "cell_type": "markdown",
   "metadata": {},
   "source": [
    "__A:__ Given that the values of the mean and standard deviation are just for one sample of 1338 records, it is difficult to say with certainty if the administrators concerns are valid or not. For this specific sample it can be said that concern may not be valid. However for another sample, it may well be possible that the mean is below \\\\$12000, validating her concerns. Hence one would have to apply hypothesis testing to check if her claims are valid or not. Given that we are only able to ***estimate*** the population standard deviation, we can use the t-score test to check the administrators claims."
   ]
  },
  {
   "cell_type": "markdown",
   "metadata": {},
   "source": [
    "__Q3:__ Given the nature of the administrator's concern, what is the appropriate confidence interval in this case? A ***one-sided*** or ***two-sided*** interval? (Refresh your understanding of this concept on p. 399 of the *AoS*). Calculate the critical value and the relevant 95% confidence interval for the mean, and comment on whether the administrator should be concerned."
   ]
  },
  {
   "cell_type": "markdown",
   "metadata": {},
   "source": [
    "__A:__ Given that the administrator is interested in the case of the value falling below \\\\$12000, we are interested in a one sided interval. A 99% confidence interval is more appropriate in this case since it allows us to be more certain as to if the average charge has fallen below \\\\$12000 or not. "
   ]
  },
  {
   "cell_type": "code",
   "execution_count": 10,
   "metadata": {},
   "outputs": [
    {
     "name": "stdout",
     "output_type": "stream",
     "text": [
      " Mean of the Sample = 13270.422265141257\n",
      "Standard deviation of the Sample = 12105.484975561605\n"
     ]
    }
   ],
   "source": [
    "sample_charges_mean = np.mean(medical['charges']) # mean of sample of charges given in the Dataframe -bar{x}\n",
    "sample_charges_std = np.std(medical['charges']) # stnadard deviation of sample of charges given in the df - s\n",
    "print(f' Mean of the Sample = {sample_charges_mean}')\n",
    "print(f'Standard deviation of the Sample = {sample_charges_std}')"
   ]
  },
  {
   "cell_type": "code",
   "execution_count": 18,
   "metadata": {},
   "outputs": [
    {
     "name": "stdout",
     "output_type": "stream",
     "text": [
      " Alpha value used for t score calculation :  0.050000000000000044\n",
      " Margin of Error using t-score for a one tailed test =  544.73\n",
      "95% Confidence intervals are : 12725.69, 13815.15\n"
     ]
    }
   ],
   "source": [
    "conf_intr = 0.95 # Setting confidence interval to 95%\n",
    "alpha = 1 - conf_intr # calculating alpha value based on confidence interval\n",
    "alpha2 = alpha / 2 # dividing by two - used only for a two tailed test.\n",
    "print(\" Alpha value used for t score calculation : \", alpha)\n",
    "\n",
    "# use 1- alpha for one tailed test. \n",
    "#Calculating degrees of freedom based on sample size as n - 1. Here sample size is the no. of rows in the dataframe\n",
    "df = medical.shape[0] - 1 \n",
    "\n",
    "# Assume that the null hypothesis is that the average charge is less than $12000. Your main aim will always be to \n",
    "# try and disprove the null hypothesis.\n",
    "# Calculating confidence intervals using t score: \n",
    "t_score = t.ppf(1 - alpha, df)\n",
    "\n",
    "MarginError_t = round(t_score * sample_charges_std / np.sqrt(medical.shape[0]), 2)\n",
    "print(' Margin of Error using t-score for a one tailed test = ', MarginError_t)\n",
    "\n",
    "# Calculating 95% confidence intervals : \n",
    "lower_limit = round(sample_charges_mean - abs(MarginError_t), 2)\n",
    "upper_limit = round(sample_charges_mean + abs(MarginError_t), 2)\n",
    "\n",
    "print(f'95% Confidence intervals are : {lower_limit}, {upper_limit}')\n",
    "\n"
   ]
  },
  {
   "cell_type": "markdown",
   "metadata": {},
   "source": [
    "Given that the true value of the test statistic ( the mean) lies within the range of \\\\$12725 to \\\\$13815, we can say with 95% confidence that the average is more than \\\\$12000. "
   ]
  },
  {
   "cell_type": "markdown",
   "metadata": {},
   "source": [
    "The administrator then wants to know whether people with insurance really are charged a different amount to those without.\n",
    "\n",
    "__Q4:__ State the null and alternative hypothesis here. Use the _t_-test for the difference between means, where the pooled standard deviation of the two groups is given by:\n",
    "\\begin{equation}\n",
    "s_p = \\sqrt{\\frac{(n_0 - 1)s^2_0 + (n_1 - 1)s^2_1}{n_0 + n_1 - 2}}\n",
    "\\end{equation}\n",
    "\n",
    "and the *t*-test statistic is then given by:\n",
    "\n",
    "\\begin{equation}\n",
    "t = \\frac{\\bar{x}_0 - \\bar{x}_1}{s_p \\sqrt{1/n_0 + 1/n_1}}.\n",
    "\\end{equation}\n",
    "\n",
    "(If you need some reminding of the general definition of ***t-statistic***, check out the definition on p. 404 of *AoS*). \n",
    "\n",
    "What assumption about the variances of the two groups are we making here?"
   ]
  },
  {
   "cell_type": "markdown",
   "metadata": {},
   "source": [
    "__A:__ For two independent sample tests the null and alternative hypothesis are : \n",
    "\n",
    "H_0 - People with insurance are charged the same as people without insurance.  $\\bar{x1}$ = $\\bar{x2}$ \n",
    "\n",
    "H_a - People with insurance are charged a different amount than people without. $\\bar{x1}$ != $\\bar{x2}$ \n",
    "\n",
    "Since this test statistic can go either way, we will perform a two tailed test. We are making the assumption that the scatter of the two samples are the same. In other words the variances of the two groups are homogenous."
   ]
  },
  {
   "cell_type": "markdown",
   "metadata": {},
   "source": [
    "__Q5:__ Perform this hypothesis test both manually, using the above formulae, and then using the appropriate function from [scipy.stats](https://docs.scipy.org/doc/scipy/reference/stats.html#statistical-tests) (hint, you're looking for a function to perform a _t_-test on two independent samples). For the manual approach, calculate the value of the test statistic and then its probability (the p-value). Verify you get the same results from both."
   ]
  },
  {
   "cell_type": "markdown",
   "metadata": {},
   "source": [
    "__A:__ "
   ]
  },
  {
   "cell_type": "markdown",
   "metadata": {},
   "source": [
    "## Using the manual method"
   ]
  },
  {
   "cell_type": "code",
   "execution_count": 31,
   "metadata": {},
   "outputs": [],
   "source": [
    "# Hypothesis testing using manual method : \n",
    "\n",
    "# We start by finding the sample sizes of those with insurance and those without. From the medical dataframe: \n",
    "# N0 = count of people without insurance or where 'insuranceclaim' = 0\n",
    "# N1 = count of people with insurance or where 'insuranceclaim' = 1\n",
    "\n",
    "\n"
   ]
  },
  {
   "cell_type": "code",
   "execution_count": 35,
   "metadata": {},
   "outputs": [
    {
     "name": "stdout",
     "output_type": "stream",
     "text": [
      " Number of people insured:  783\n"
     ]
    }
   ],
   "source": [
    "insured_charges = medical[medical['insuranceclaim'] == 1]['charges'].tolist()\n",
    "\n",
    "N1 = len(insured_charges) # sample size of people with insurance\n",
    "print(' Number of people insured: ', N1)"
   ]
  },
  {
   "cell_type": "code",
   "execution_count": 36,
   "metadata": {},
   "outputs": [
    {
     "name": "stdout",
     "output_type": "stream",
     "text": [
      " Number of people uninsured:  555\n"
     ]
    }
   ],
   "source": [
    "uninsured_charges = medical[medical['insuranceclaim'] == 0]['charges'].tolist()\n",
    "\n",
    "N0 = len(uninsured_charges)# sample size of people without insurance\n",
    "print(' Number of people uninsured: ', N0)"
   ]
  },
  {
   "cell_type": "code",
   "execution_count": 45,
   "metadata": {},
   "outputs": [
    {
     "name": "stdout",
     "output_type": "stream",
     "text": [
      "Mean of sample of charges to people with insurance :  16423.928276537677\n",
      "Standard deviation of sample of charges to people with insurance :  14036.956250260417\n"
     ]
    }
   ],
   "source": [
    "s1 = np.std(insured_charges) # calculating standard deviation of insured charges\n",
    "x1 = np.mean(insured_charges) # calculating mean of insured charges\n",
    "print('Mean of sample of charges to people with insurance : ', x1)\n",
    "print('Standard deviation of sample of charges to people with insurance : ', s1)"
   ]
  },
  {
   "cell_type": "code",
   "execution_count": 46,
   "metadata": {},
   "outputs": [
    {
     "name": "stdout",
     "output_type": "stream",
     "text": [
      "Mean of sample of charges to people without insurance :  8821.421892306305\n",
      "Standard deviation of sample of charges to people without insurance :  6440.699841605235\n"
     ]
    }
   ],
   "source": [
    "s0 = np.std(uninsured_charges) # calculating standard deviation of uninsured charges\n",
    "x0 = np.mean(uninsured_charges) # calculating mean of uninsured charges\n",
    "print('Mean of sample of charges to people without insurance : ', x0)\n",
    "print('Standard deviation of sample of charges to people without insurance : ', s0)"
   ]
  },
  {
   "cell_type": "code",
   "execution_count": 47,
   "metadata": {},
   "outputs": [
    {
     "name": "stdout",
     "output_type": "stream",
     "text": [
      " Pooled Standard deviation =  11512.282899205748\n"
     ]
    }
   ],
   "source": [
    "# Pooled standard deviation calculation\n",
    "DoF_pooled = N0 + N1 - 2 # calculating degrees of Freedom\n",
    "P0 = (N0 - 1) * (s0 ** 2)\n",
    "P1 = (N1 - 1) * (s1 ** 2)\n",
    "Sp = np.sqrt((P0 + P1) / DoF_pooled)\n",
    "print(' Pooled Standard deviation = ', Sp)"
   ]
  },
  {
   "cell_type": "code",
   "execution_count": 49,
   "metadata": {},
   "outputs": [
    {
     "name": "stdout",
     "output_type": "stream",
     "text": [
      " Manual calculated t-score :  -11.901306943555388\n"
     ]
    }
   ],
   "source": [
    "# t-score calculation : \n",
    "t_pooled_calculated = (x0 - x1) / (Sp * np.sqrt(( 1 / N0) + ( 1 / N1)))\n",
    "print(' Manual calculated t-score : ', t_pooled_calculated)"
   ]
  },
  {
   "cell_type": "code",
   "execution_count": 54,
   "metadata": {},
   "outputs": [
    {
     "name": "stdout",
     "output_type": "stream",
     "text": [
      " Probability of t-statistic 1.0\n",
      " p-value of t-statistic =  0.0\n"
     ]
    }
   ],
   "source": [
    "# calculating p-value for the t-statistic : \n",
    "CDF_t_pooled = t.cdf(abs(t_pooled_calculated), DoF_pooled)\n",
    "print(\" Probability of t-statistic\", CDF_t_pooled)\n",
    "\n",
    "p_value = (1 - CDF_t_pooled) * 2\n",
    "print (' p-value of t-statistic = ', p_value)"
   ]
  },
  {
   "cell_type": "code",
   "execution_count": 50,
   "metadata": {},
   "outputs": [
    {
     "name": "stdout",
     "output_type": "stream",
     "text": [
      " t-score from lookup table for 95% CI :  1.9617412190546957\n"
     ]
    }
   ],
   "source": [
    "# Calculating t score using the lookup table for 95% confidence interval: \n",
    "confidence_int = 0.95 # 95% confidence interval\n",
    "alpha = 1 - confidence_int # calculating alpha \n",
    "alpha2 = alpha / 2 # calculating alpha / 2 for two tailed test. \n",
    "t_pooled_lookup = t.ppf(1 - alpha2, DoF_pooled) # calculating t score from look up table for a two tailed test\n",
    "print(' t-score from lookup table for 95% CI : ', t_pooled_lookup)\n",
    "\n"
   ]
  },
  {
   "cell_type": "code",
   "execution_count": 55,
   "metadata": {},
   "outputs": [
    {
     "name": "stdout",
     "output_type": "stream",
     "text": [
      " Reject Null Hypothesis that the means are equal.\n"
     ]
    }
   ],
   "source": [
    "# Comparing the p value with the alpha - \n",
    "if p_value < alpha : \n",
    "    print(' Reject Null Hypothesis that the means are equal.')\n",
    "else: \n",
    "    print(' Accept the null hypothesis are equal.')"
   ]
  },
  {
   "cell_type": "markdown",
   "metadata": {},
   "source": [
    "## Calculating using Python method for independent sample tests"
   ]
  },
  {
   "cell_type": "code",
   "execution_count": 60,
   "metadata": {},
   "outputs": [
    {
     "name": "stdout",
     "output_type": "stream",
     "text": [
      "t-statistic calculated from Python function :  11.901306943555388\n",
      "p-value using python :  4.090550214373679e-31\n"
     ]
    }
   ],
   "source": [
    "t_stat_python, p_value_python = ttest_ind_from_stats(mean1 = x1, std1 = s1, nobs1 = N1, \n",
    "                                                     mean2 = x0, std2 = s0, nobs2 = N0, \n",
    "                                                     equal_var = True)\n",
    "print('t-statistic calculated from Python function : ', t_stat_python) \n",
    "print('p-value using python : ',p_value_python)"
   ]
  },
  {
   "cell_type": "markdown",
   "metadata": {},
   "source": [
    "# Conclusion\n",
    "\n",
    "We can see that the values for the t-statistic and the p-value are similar from both the methods. \n",
    "Subsequently since the p-value < alpha we can reject the Null hypothesis that the two means are equal. Hence the two groups are charged differently. "
   ]
  },
  {
   "cell_type": "code",
   "execution_count": null,
   "metadata": {},
   "outputs": [],
   "source": []
  },
  {
   "cell_type": "markdown",
   "metadata": {},
   "source": [
    "Congratulations! Hopefully you got the exact same numerical results. This shows that you correctly calculated the numbers by hand. Secondly, you used the correct function and saw that it's much easier to use. All you need to do is pass your data to it."
   ]
  },
  {
   "cell_type": "markdown",
   "metadata": {},
   "source": [
    "__Q6:__ Conceptual question: look through the documentation for statistical test functions in scipy.stats. You'll see the above _t_-test for a sample, but can you see an equivalent one for performing a *z*-test from a sample? Comment on your answer."
   ]
  },
  {
   "cell_type": "markdown",
   "metadata": {},
   "source": [
    "__A:__ There is no equivalent functions for the z-score. A possible reason or this could be since t-test is used to infer data about the populations from the sample. The z-score however is performed on an entire population. In reality however we never have complete information about the population and hence it may not be an accurate test to perform. "
   ]
  },
  {
   "cell_type": "markdown",
   "metadata": {},
   "source": [
    "## Learning outcomes"
   ]
  },
  {
   "cell_type": "markdown",
   "metadata": {},
   "source": [
    "Having completed this project notebook, you now have good hands-on experience:\n",
    "* using the central limit theorem to help you apply frequentist techniques to answer questions that pertain to very non-normally distributed data from the real world\n",
    "* performing inference using such data to answer business questions\n",
    "* forming a hypothesis and framing the null and alternative hypotheses\n",
    "* testing this using a _t_-test"
   ]
  }
 ],
 "metadata": {
  "kernelspec": {
   "display_name": "Python 3",
   "language": "python",
   "name": "python3"
  },
  "language_info": {
   "codemirror_mode": {
    "name": "ipython",
    "version": 3
   },
   "file_extension": ".py",
   "mimetype": "text/x-python",
   "name": "python",
   "nbconvert_exporter": "python",
   "pygments_lexer": "ipython3",
   "version": "3.8.5"
  }
 },
 "nbformat": 4,
 "nbformat_minor": 2
}
